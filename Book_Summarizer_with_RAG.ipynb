{
  "nbformat": 4,
  "nbformat_minor": 0,
  "metadata": {
    "colab": {
      "provenance": [],
      "include_colab_link": true
    },
    "kernelspec": {
      "name": "python3",
      "display_name": "Python 3"
    },
    "language_info": {
      "name": "python"
    }
  },
  "cells": [
    {
      "cell_type": "markdown",
      "metadata": {
        "id": "view-in-github",
        "colab_type": "text"
      },
      "source": [
        "<a href=\"https://colab.research.google.com/github/Sriniranjini/genai-101/blob/main/Book_Summarizer_with_RAG.ipynb\" target=\"_parent\"><img src=\"https://colab.research.google.com/assets/colab-badge.svg\" alt=\"Open In Colab\"/></a>"
      ]
    },
    {
      "cell_type": "code",
      "source": [
        "\n",
        "\n",
        "import fitz  # PyMuPDF\n",
        "from transformers import pipeline\n",
        "!pip install PyMuPDF transformers\n",
        "import os\n",
        "\n",
        "def extract_text_from_pdf(pdf_path):\n",
        "    doc = fitz.open(pdf_path)\n",
        "    text = \"\"\n",
        "    for page_num in range(len(doc)):\n",
        "        page = doc.load_page(page_num)\n",
        "        text += page.get_text()\n",
        "    return text\n",
        "\n",
        "def summarize_text(text, max_length=1024, min_length=30):\n",
        "    summarizer = pipeline(\"summarization\")\n",
        "    summary = summarizer(text[:1023], max_length=max_length, min_length=min_length, do_sample=False)\n",
        "    return summary[0]['summary_text']\n",
        "\n",
        "def summarize_pdf(pdf_path):\n",
        "    text = extract_text_from_pdf(pdf_path)\n",
        "    summary = summarize_text(text)\n",
        "    return summary\n",
        "\n",
        "NO_OF_CHARS = 256\n",
        "def str_to_list(string):\n",
        "  temp = []\n",
        "  for x in string:\n",
        "    temp.append(x)\n",
        "  return temp\n",
        "def lst_to_string(List):\n",
        "  return ''.join(List)\n",
        "def get_char_count_array(string):\n",
        "  count = [0] * NO_OF_CHARS\n",
        "  for i in string:\n",
        "    count[ord(i)] += 1\n",
        "  return count\n",
        "def remove_dirty_chars(string, second_string):\n",
        "  count = get_char_count_array(second_string)\n",
        "  ip_ind = 0\n",
        "  res_ind = 0\n",
        "  temp = ''\n",
        "  str_list = str_to_list(string)\n",
        "  while ip_ind != len(str_list):\n",
        "    temp = str_list[ip_ind]\n",
        "    if count[ord(temp)] == 0:\n",
        "      str_list[res_ind] = str_list[ip_ind]\n",
        "      res_ind += 1\n",
        "    ip_ind+=1\n",
        "  return lst_to_string(str_list[0:res_ind])\n",
        "\n",
        "def process_pdf(pdf_path, chars_to_remove):\n",
        "    try:\n",
        "        summary = summarize_pdf(pdf_path)\n",
        "        cleaned_summary = remove_dirty_chars(summary, chars_to_remove)\n",
        "        return cleaned_summary\n",
        "    except Exception as e:\n",
        "      print(f\"An error occurred: {e}\")\n",
        "      return None\n",
        "\n",
        "# Example usage\n",
        "pdf_path = \"/content/The 7 habits of highly effective people (1).pdf\"  # Replace with your PDF file path\n",
        "chars_to_remove = \".,!?\" # Example characters to remove\n",
        "\n",
        "if os.path.exists(pdf_path):\n",
        "  cleaned_summary = process_pdf(pdf_path, chars_to_remove)\n",
        "  if cleaned_summary:\n",
        "    print(\"Cleaned Summary:\")\n",
        "    print(cleaned_summary)\n",
        "else:\n",
        "  print(f\"Error: File not found at {pdf_path}\")\n"
      ],
      "metadata": {
        "colab": {
          "base_uri": "https://localhost:8080/"
        },
        "id": "xARmqVt-kfUx",
        "outputId": "de871baf-0e52-4b5f-d5fc-33aed3d0a629"
      },
      "execution_count": 7,
      "outputs": [
        {
          "output_type": "stream",
          "name": "stdout",
          "text": [
            "Requirement already satisfied: PyMuPDF in /usr/local/lib/python3.11/dist-packages (1.25.3)\n",
            "Requirement already satisfied: transformers in /usr/local/lib/python3.11/dist-packages (4.48.3)\n",
            "Requirement already satisfied: filelock in /usr/local/lib/python3.11/dist-packages (from transformers) (3.17.0)\n",
            "Requirement already satisfied: huggingface-hub<1.0,>=0.24.0 in /usr/local/lib/python3.11/dist-packages (from transformers) (0.28.1)\n",
            "Requirement already satisfied: numpy>=1.17 in /usr/local/lib/python3.11/dist-packages (from transformers) (1.26.4)\n",
            "Requirement already satisfied: packaging>=20.0 in /usr/local/lib/python3.11/dist-packages (from transformers) (24.2)\n",
            "Requirement already satisfied: pyyaml>=5.1 in /usr/local/lib/python3.11/dist-packages (from transformers) (6.0.2)\n",
            "Requirement already satisfied: regex!=2019.12.17 in /usr/local/lib/python3.11/dist-packages (from transformers) (2024.11.6)\n",
            "Requirement already satisfied: requests in /usr/local/lib/python3.11/dist-packages (from transformers) (2.32.3)\n",
            "Requirement already satisfied: tokenizers<0.22,>=0.21 in /usr/local/lib/python3.11/dist-packages (from transformers) (0.21.0)\n",
            "Requirement already satisfied: safetensors>=0.4.1 in /usr/local/lib/python3.11/dist-packages (from transformers) (0.5.2)\n",
            "Requirement already satisfied: tqdm>=4.27 in /usr/local/lib/python3.11/dist-packages (from transformers) (4.67.1)\n",
            "Requirement already satisfied: fsspec>=2023.5.0 in /usr/local/lib/python3.11/dist-packages (from huggingface-hub<1.0,>=0.24.0->transformers) (2024.10.0)\n",
            "Requirement already satisfied: typing-extensions>=3.7.4.3 in /usr/local/lib/python3.11/dist-packages (from huggingface-hub<1.0,>=0.24.0->transformers) (4.12.2)\n",
            "Requirement already satisfied: charset-normalizer<4,>=2 in /usr/local/lib/python3.11/dist-packages (from requests->transformers) (3.4.1)\n",
            "Requirement already satisfied: idna<4,>=2.5 in /usr/local/lib/python3.11/dist-packages (from requests->transformers) (3.10)\n",
            "Requirement already satisfied: urllib3<3,>=1.21.1 in /usr/local/lib/python3.11/dist-packages (from requests->transformers) (2.3.0)\n",
            "Requirement already satisfied: certifi>=2017.4.17 in /usr/local/lib/python3.11/dist-packages (from requests->transformers) (2025.1.31)\n"
          ]
        },
        {
          "output_type": "stream",
          "name": "stderr",
          "text": [
            "No model was supplied, defaulted to sshleifer/distilbart-cnn-12-6 and revision a4f8f3e (https://huggingface.co/sshleifer/distilbart-cnn-12-6).\n",
            "Using a pipeline without specifying a model name and revision in production is not recommended.\n",
            "Device set to use cpu\n",
            "Your max_length is set to 1024, but your input_length is only 282. Since this is a summarization task, where outputs shorter than the input are typically wanted, you might consider decreasing max_length manually, e.g. summarizer('...', max_length=141)\n"
          ]
        },
        {
          "output_type": "stream",
          "name": "stdout",
          "text": [
            "Cleaned Summary:\n",
            " Stephen Covey has written a remarkable book about the human condition so elegantly written that it's going to be my gift to everyone I know  Covey is an American Socrates opening your mind to the 'permanent things' --  values family relationships communicating \n"
          ]
        }
      ]
    }
  ]
}